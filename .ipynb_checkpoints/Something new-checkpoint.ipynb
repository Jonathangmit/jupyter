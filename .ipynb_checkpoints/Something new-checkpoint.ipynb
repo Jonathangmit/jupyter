{
 "cells": [
  {
   "cell_type": "code",
   "execution_count": 20,
   "id": "3566f2fd",
   "metadata": {},
   "outputs": [],
   "source": [
    "# Trying to light a fire under Github"
   ]
  },
  {
   "cell_type": "code",
   "execution_count": null,
   "id": "04161741",
   "metadata": {},
   "outputs": [],
   "source": [
    "# Log-mean temperature difference"
   ]
  },
  {
   "cell_type": "code",
   "execution_count": 27,
   "id": "dad99992",
   "metadata": {},
   "outputs": [
    {
     "name": "stdout",
     "output_type": "stream",
     "text": [
      "product stream inlet temp = 150\n",
      "product stream outlet temp = 32\n",
      "cooling stream inlet temp = 20\n",
      "cooling stream outlet temp = 70\n"
     ]
    }
   ],
   "source": [
    "import math\n",
    "\n",
    "pi = int(input(\"product stream inlet temp = \"))\n",
    "po = int(input(\"product stream outlet temp = \"))\n",
    "ci = int(input(\"cooling stream inlet temp = \"))\n",
    "co = int(input(\"cooling stream outlet temp = \"))\n"
   ]
  },
  {
   "cell_type": "code",
   "execution_count": 28,
   "id": "600c01a2",
   "metadata": {},
   "outputs": [
    {
     "name": "stdout",
     "output_type": "stream",
     "text": [
      "12\n",
      "80\n"
     ]
    }
   ],
   "source": [
    "dT1 = po - ci\n",
    "dT2 = pi - co\n",
    "\n",
    "print (dT1)\n",
    "print(dT2)"
   ]
  },
  {
   "cell_type": "code",
   "execution_count": 29,
   "id": "419118a9",
   "metadata": {},
   "outputs": [],
   "source": [
    "LMTD = (dT2 - dT1) / (math.log(dT2/dT1))"
   ]
  },
  {
   "cell_type": "code",
   "execution_count": 32,
   "id": "07110445",
   "metadata": {},
   "outputs": [
    {
     "name": "stdout",
     "output_type": "stream",
     "text": [
      "35.8 deg C\n"
     ]
    }
   ],
   "source": [
    "print(round (LMTD,1),\"deg C\")"
   ]
  }
 ],
 "metadata": {
  "kernelspec": {
   "display_name": "Python 3",
   "language": "python",
   "name": "python3"
  },
  "language_info": {
   "codemirror_mode": {
    "name": "ipython",
    "version": 3
   },
   "file_extension": ".py",
   "mimetype": "text/x-python",
   "name": "python",
   "nbconvert_exporter": "python",
   "pygments_lexer": "ipython3",
   "version": "3.8.8"
  }
 },
 "nbformat": 4,
 "nbformat_minor": 5
}
