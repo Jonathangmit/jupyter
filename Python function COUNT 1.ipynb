{
 "cells": [
  {
   "cell_type": "markdown",
   "metadata": {},
   "source": [
    "### Jonathan Harper\n",
    "### Fundamentals of data analysis:\n",
    "\n",
    "> Start investigating Jupyter and the first problem of creating a function to count a list.\n",
    "> Ensuring along the way that good documentation practice is developed and used.\n",
    "\n",
    "## The references stated below are references used in the in the contruction of the assignment\n",
    "\n",
    "[1]Stack overflow; \n",
    "    https://stackoverflow.com/questions/40284484/count-or-add-list-elements-without-using-python-built-in-functions\n",
    "        \n",
    "[2]An informal introduction to python; https://docs.python.org/3/tutorial/introduction.html#lists\n",
    "    \n",
    "[3]Geeks for geeks; https://www.geeksforgeeks.org/python-count-occurrences-of-a-character-in-string/\n",
    "    \n",
    "[4]Geeks for geeks; https://www.geeksforgeeks.org/python-frequency-of-each-character-in-string/\n",
    "\n",
    "[5]python.org; https://wiki.python.org/moin/ForLoop"
   ]
  },
  {
   "cell_type": "markdown",
   "metadata": {},
   "source": [
    "# Count"
   ]
  },
  {
   "cell_type": "markdown",
   "metadata": {},
   "source": [
    "### Please copy the sentence below in the box when promted, or one of your own if you like.\n",
    "#### the quick brown fox jumped over the lazy dog\n",
    "> I chose this phrase to use as it contains all the letters of the English alphabet and so provides a quick visual \n",
    "> check to see that my code is running as wished\n",
    "\n",
    "## practice 1\n",
    "\n",
    "###### I wanted first to establish the mechanism which was going to count my letters and be confident that this would indeed count the individual discrete items and provide the required output before creating a fully formed function. This code clearly does that"
   ]
  },
  {
   "cell_type": "code",
   "execution_count": 1,
   "metadata": {},
   "outputs": [
    {
     "name": "stdout",
     "output_type": "stream",
     "text": [
      "please enter a sentence:the quick brown fox jumped over the lazy dog\n",
      "{'t': 2, 'h': 2, 'e': 4, ' ': 8, 'q': 1, 'u': 2, 'i': 1, 'c': 1, 'k': 1, 'b': 1, 'r': 2, 'o': 4, 'w': 1, 'n': 1, 'f': 1, 'x': 1, 'j': 1, 'm': 1, 'p': 1, 'd': 2, 'v': 1, 'l': 1, 'a': 1, 'z': 1, 'y': 1, 'g': 1}\n"
     ]
    }
   ],
   "source": [
    "# asking the user for a list of words in which individual characters are \n",
    "# counted and the values foreach character returned.\n",
    "\n",
    "# requesting the list\n",
    "x=str(input(\"please enter a sentence:\"))\n",
    "count = {}\n",
    "for i in x: \n",
    "    if i in count: \n",
    "        count[i] +=1\n",
    "    else:\n",
    "        count[i] = 1\n",
    "    \n",
    "print (count)"
   ]
  },
  {
   "cell_type": "code",
   "execution_count": 2,
   "metadata": {},
   "outputs": [
    {
     "name": "stdout",
     "output_type": "stream",
     "text": [
      "please enter a sentence:hello\n",
      "{'h': 1, 'e': 1, 'l': 2, 'o': 1}\n"
     ]
    }
   ],
   "source": [
    "#practice area to inroduce function\n",
    "x=str(input(\"please enter a sentence:\"))\n",
    "y = {}\n",
    "def count (x):\n",
    "    for i in x: \n",
    "        if i in y: \n",
    "            y[i] +=1\n",
    "        else:\n",
    "            y[i] = 1\n",
    "    return y\n",
    "print (count(x))"
   ]
  },
  {
   "cell_type": "markdown",
   "metadata": {},
   "source": [
    "### Count Assignment code"
   ]
  },
  {
   "cell_type": "code",
   "execution_count": 23,
   "metadata": {},
   "outputs": [
    {
     "name": "stdout",
     "output_type": "stream",
     "text": [
      "{'A': 3, 'B': 1, 'C': 1}\n"
     ]
    }
   ],
   "source": [
    "#Move from input to list as requested\n",
    "x=['A','A','B','C','A']\n",
    "#creating the dictionary y in which the counts will be stored\n",
    "y = {}\n",
    "def count (n): #Naming the function count\n",
    "    for i in n: #Function now looks for a character from the list\n",
    "        if i in y: \n",
    "            y[i] += 1  # If character is already counted once then 1 more is added to the count\n",
    "        else:\n",
    "            y[i] = 1 # if character encountered for the first time then the count is 1\n",
    "    return y \n",
    "print (count(x))#the function is called for the list x here"
   ]
  },
  {
   "cell_type": "markdown",
   "metadata": {},
   "source": [
    "### I have taken the code for assignment and manipulated it to develop my understanding."
   ]
  },
  {
   "cell_type": "code",
   "execution_count": 32,
   "metadata": {},
   "outputs": [
    {
     "name": "stdout",
     "output_type": "stream",
     "text": [
      "{'A': 1}\n",
      "{'A': 2}\n",
      "{'A': 2, 'B': 1}\n",
      "{'A': 2, 'B': 1, 'C': 1}\n",
      "{'A': 3, 'B': 1, 'C': 1}\n",
      "After consulting my dictionary I can announce the count for each character in the list is as follows \n",
      " {'A': 3, 'B': 1, 'C': 1}\n"
     ]
    }
   ],
   "source": [
    "x=['A','A','B','C','A']\n",
    "y = {}\n",
    "def count (n): \n",
    "    for i in n: \n",
    "        if i in y: \n",
    "            y[i] += 1  \n",
    "        else:\n",
    "            y[i] = 1\n",
    "        print (y) #added a print statement here to display every iteration of the list\n",
    "    return y\n",
    "print('After consulting my dictionary I can announce the count for each character in the list is as follows','\\n',count(x))"
   ]
  },
  {
   "cell_type": "markdown",
   "metadata": {},
   "source": [
    "#### In the above code I have simply taken the assignment code and added a print statement within the for loop, this is interesting in that it allows us to see the dictionary formed with each interation of the loop.\n",
    "\n",
    "* The first letter encountered is A, A is assigned a value of 1 through the else statement.\n",
    "* The second leter encountered is A therefore the count for A has 1 added (A=2) to it through the if statement.\n",
    "* The third letter encountered is B,  B is assigned a value of 1 through the else statement.\n",
    "* The fourth letter encountered is C, C is assigned a value of 1 through the else statement.\n",
    "* The fifth leter encountered is A therefore the count for A has 1 added (A=3) to it through the if statement."
   ]
  },
  {
   "cell_type": "code",
   "execution_count": 27,
   "metadata": {},
   "outputs": [
    {
     "name": "stdout",
     "output_type": "stream",
     "text": [
      "x dictionary: {'A': 3, 'B': 1, 'C': 1}\n",
      "z dictionary: {'D': 1, 'E': 1, 'F': 3}\n",
      "x and z dictionarys combined: {'A': 3, 'B': 1, 'C': 1, 'D': 1, 'E': 1, 'F': 3}\n"
     ]
    }
   ],
   "source": [
    "#Now we have 2 lists x and z\n",
    "x=['A','A','B','C','A']\n",
    "z=['D','E','F','F','F']\n",
    "def count(n) : #ensuring the function is clearly generic by removing the label.\n",
    "    y = {} # by moving the dictionary creation into the loop we clear it everytime we call the function.\n",
    "    for i in n:\n",
    "        if i in y: \n",
    "            y[i] +=1\n",
    "        else:\n",
    "            y[i] = 1\n",
    "    return y\n",
    "print ('x dictionary:',(count(x)))# this will give us our first list\n",
    "print ('z dictionary:',(count(z)))# this will give us our second list\n",
    "print ('x and z dictionarys combined:',(count(x + z))) #this combines both lists"
   ]
  },
  {
   "cell_type": "markdown",
   "metadata": {},
   "source": [
    "### In this code I have added a second list to demonstrate that the created function will run on different lists and that by calling the fuction correctly both lists can be placed into the same dictionary by the same function.\n",
    "\n",
    "###### In order to achive separate outputs for each list in code that called for the fuction onboth lists I had to create the dictionary inside the function, thus the dictionary was cleared of list x before executing list z. I also called the function with the lists combined and (x+z) . This achived the desired output of both lists being assigned to the same dictionary."
   ]
  }
 ],
 "metadata": {
  "kernelspec": {
   "display_name": "Python 3",
   "language": "python",
   "name": "python3"
  },
  "language_info": {
   "codemirror_mode": {
    "name": "ipython",
    "version": 3
   },
   "file_extension": ".py",
   "mimetype": "text/x-python",
   "name": "python",
   "nbconvert_exporter": "python",
   "pygments_lexer": "ipython3",
   "version": "3.8.3"
  }
 },
 "nbformat": 4,
 "nbformat_minor": 4
}
