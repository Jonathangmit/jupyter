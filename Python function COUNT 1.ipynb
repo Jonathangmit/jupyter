{
 "cells": [
  {
   "cell_type": "markdown",
   "metadata": {},
   "source": [
    "### Jonathan Harper\n",
    "### Fundamentals of data analysis:\n",
    "\n",
    "***\n",
    "\n",
    "## The references stated below are references used in the in the contruction of the counts  assignment\n",
    "\n",
    "[1]Stack overflow; \n",
    "    https://stackoverflow.com/questions/40284484/count-or-add-list-elements-without-using-python-built-in-functions\n",
    "        \n",
    "[2]An informal introduction to python; https://docs.python.org/3/tutorial/introduction.html#lists\n",
    "    \n",
    "[3]Geeks for geeks; https://www.geeksforgeeks.org/python-count-occurrences-of-a-character-in-string/\n",
    "    \n",
    "[4]Geeks for geeks; https://www.geeksforgeeks.org/python-frequency-of-each-character-in-string/\n",
    "\n",
    "[5]python.org; https://wiki.python.org/moin/ForLoop"
   ]
  },
  {
   "cell_type": "markdown",
   "metadata": {},
   "source": [
    "***\n",
    "\n",
    "# Assignment 1 Count"
   ]
  },
  {
   "cell_type": "markdown",
   "metadata": {},
   "source": [
    "## practice\n",
    "\n",
    "###### I wanted first to establish the mechanism which was going to count my letters and be confident that this would indeed count the individual discrete items and provide the required output before wrapping it in a function. This code clearly does that."
   ]
  },
  {
   "cell_type": "code",
   "execution_count": 14,
   "metadata": {},
   "outputs": [
    {
     "name": "stdout",
     "output_type": "stream",
     "text": [
      "please enter a sentence:hello\n",
      "{'h': 1, 'e': 1, 'l': 2, 'o': 1}\n"
     ]
    }
   ],
   "source": [
    "# asking the user for a list of words in which individual characters are \n",
    "# counted and the values foreach character returned.\n",
    "\n",
    "# requesting the list\n",
    "x=str(input(\"please enter a sentence:\"))\n",
    "count = {}\n",
    "for i in x: \n",
    "    if i in count: \n",
    "        count[i] +=1\n",
    "    else:\n",
    "        count[i] = 1\n",
    "    \n",
    "print (count)"
   ]
  },
  {
   "cell_type": "code",
   "execution_count": 15,
   "metadata": {},
   "outputs": [
    {
     "name": "stdout",
     "output_type": "stream",
     "text": [
      "please enter a sentence:hello\n",
      "{'h': 1, 'e': 1, 'l': 2, 'o': 1}\n"
     ]
    }
   ],
   "source": [
    "#practice area to inroduce function\n",
    "x=str(input(\"please enter a sentence:\"))\n",
    "y = {}\n",
    "def count (x):\n",
    "    for i in x: \n",
    "        if i in y: \n",
    "            y[i] +=1\n",
    "        else:\n",
    "            y[i] = 1\n",
    "    return y\n",
    "print (count(x))"
   ]
  },
  {
   "cell_type": "markdown",
   "metadata": {},
   "source": [
    "***\n",
    "## Count Assignment code"
   ]
  },
  {
   "cell_type": "code",
   "execution_count": 16,
   "metadata": {},
   "outputs": [
    {
     "name": "stdout",
     "output_type": "stream",
     "text": [
      "{'A': 3, 'B': 1, 'C': 1}\n"
     ]
    }
   ],
   "source": [
    "#Move from input to list as requested\n",
    "x=['A','A','B','C','A']\n",
    "#creating the dictionary y in which the counts will be stored\n",
    "y = {}\n",
    "def count (n): #Naming the function count\n",
    "    for i in n: #Function now looks for a character from the list\n",
    "        if i in y: \n",
    "            y[i] += 1  # If character is already counted once then 1 more is added to the count\n",
    "        else:\n",
    "            y[i] = 1 # if character encountered for the first time then the count is 1\n",
    "    return y \n",
    "print (count(x))#the function is called for the list x here"
   ]
  },
  {
   "cell_type": "markdown",
   "metadata": {},
   "source": [
    "***\n",
    "### I have taken the code for assignment and manipulated it to develop my understanding."
   ]
  },
  {
   "cell_type": "code",
   "execution_count": 27,
   "metadata": {},
   "outputs": [
    {
     "name": "stdout",
     "output_type": "stream",
     "text": [
      "{'1': 1}\n",
      "{'1': 1, 'A': 1}\n",
      "{'1': 1, 'A': 1, 'B': 1}\n",
      "{'1': 1, 'A': 1, 'B': 1, 'C': 1}\n",
      "{'1': 1, 'A': 2, 'B': 1, 'C': 1}\n",
      "After consulting my dictionary I can announce the count for each character in the list is as follows \n",
      " {'1': 1, 'A': 2, 'B': 1, 'C': 1}\n"
     ]
    }
   ],
   "source": [
    "x=['A','A','B','C','A']\n",
    "y = {}\n",
    "def count (n): \n",
    "    for i in n: \n",
    "        if i in y: \n",
    "            y[i] += 1  \n",
    "        else:\n",
    "            y[i] = 1\n",
    "        print (y) #added a print statement here to display every iteration of the list\n",
    "    return y\n",
    "print('After consulting my dictionary I can announce the count for each character in the list is as follows','\\n',count(x))"
   ]
  },
  {
   "cell_type": "markdown",
   "metadata": {},
   "source": [
    "#### In the above code I have simply taken the assignment code and added a print statement within the for loop, this is interesting in that it allows us to see the dictionary formed with each interation of the loop.\n",
    "\n",
    "* The first letter encountered is A, A is assigned a value of 1 through the else statement.\n",
    "* The second leter encountered is A therefore the count for A has 1 added (A=2) to it through the if statement.\n",
    "* The third letter encountered is B,  B is assigned a value of 1 through the else statement.\n",
    "* The fourth letter encountered is C, C is assigned a value of 1 through the else statement.\n",
    "* The fifth leter encountered is A therefore the count for A has 1 added (A=3) to it through the if statement."
   ]
  },
  {
   "cell_type": "code",
   "execution_count": 2,
   "metadata": {},
   "outputs": [
    {
     "name": "stdout",
     "output_type": "stream",
     "text": [
      "x dictionary: {'A': 3, 'B': 1, 'C': 1}\n",
      "z dictionary: {'D': 1, 'E': 1, 'F': 3}\n",
      "x and z dictionarys combined: {'A': 3, 'B': 1, 'C': 1, 'D': 1, 'E': 1, 'F': 3}\n"
     ]
    }
   ],
   "source": [
    "#Now we have 2 lists x and z\n",
    "x=['A','A','B','C','A']\n",
    "z=['D','E','F','F','F']\n",
    "def count(n) : #ensuring the function is clearly generic by removing the label.\n",
    "    y = {} # by moving the dictionary creation into the loop we clear it everytime we call the function.\n",
    "    for i in n:\n",
    "        if i in y: \n",
    "            y[i] +=1\n",
    "        else:\n",
    "            y[i] = 1\n",
    "    return y\n",
    "print ('x dictionary:',(count(x)))# this will give us our first list\n",
    "print ('z dictionary:',(count(z)))# this will give us our second list\n",
    "print ('x and z dictionarys combined:',(count(x + z))) #this combines both lists"
   ]
  },
  {
   "cell_type": "markdown",
   "metadata": {},
   "source": [
    "###### In this code I have added a second list to demonstrate that the created function will run on different lists and that by calling the fuction correctly both lists can be placed into the same dictionary by the same function.\n",
    "\n",
    "###### In order to achive separate outputs for each list in code that called for the fuction onboth lists I had to create the dictionary inside the function, thus the dictionary was cleared of list x before executing list z. I also called the function with the lists combined and (x+z) . This achived the desired output of both lists being assigned to the same dictionary.\n",
    "***\n",
    "###### End of Counts\n",
    "***"
   ]
  },
  {
   "cell_type": "markdown",
   "metadata": {},
   "source": [
    "\n",
    "# Assignment 2 Dice\n",
    "\n",
    "###### The references stated below are references used in the in the contruction of the dice assignment"
   ]
  },
  {
   "cell_type": "code",
   "execution_count": 19,
   "metadata": {},
   "outputs": [
    {
     "name": "stdout",
     "output_type": "stream",
     "text": [
      "First dice rolls\n",
      "3\n",
      "Second dice rolls\n",
      "5\n",
      "total is\n",
      "8\n"
     ]
    }
   ],
   "source": [
    "# create the 2 dice rolls\n",
    "import numpy as np\n",
    "rng = np.random.default_rng()\n",
    "d1 = rng.integers(1,6,endpoint=True)\n",
    "d2 = rng.integers(1,6,endpoint=True)\n",
    "print(\"First dice rolls\")\n",
    "print(d1) \n",
    "print(\"Second dice rolls\")\n",
    "print(d2)\n",
    "print(\"total is\")\n",
    "print(d1+d2)"
   ]
  },
  {
   "cell_type": "code",
   "execution_count": 51,
   "metadata": {},
   "outputs": [
    {
     "name": "stdout",
     "output_type": "stream",
     "text": [
      "how many dice do you want?3\n",
      "how many times shall I roll?3\n",
      "roll 1\n",
      "3\n",
      "4\n",
      "2\n",
      "total 9\n",
      "roll 2\n",
      "5\n",
      "5\n",
      "1\n",
      "total 11\n",
      "roll 3\n",
      "6\n",
      "1\n",
      "4\n",
      "total 11\n",
      "end\n"
     ]
    }
   ],
   "source": [
    "### Create multiple dice rolls\n",
    "import sys\n",
    "import numpy as np\n",
    "rng = np.random.default_rng()\n",
    "k = int(input(\"how many dice do you want?\"))\n",
    "n = int(input(\"how many times shall I roll?\"))\n",
    "\n",
    "def dicerolls(k,n):\n",
    "    b=1\n",
    "    while b <=n:\n",
    "        a=1\n",
    "        rolls=0\n",
    "        print('roll',b)\n",
    "        while a <=k:\n",
    "            dice = rng.integers(1,6,endpoint=True)\n",
    "            print (dice)\n",
    "            rolls = (rolls + dice)\n",
    "            a = a+1\n",
    "        b=b+1\n",
    "        print(\"total\",(rolls))\n",
    "    return\n",
    "\n",
    "dicerolls(k,n)\n",
    "print('end')"
   ]
  },
  {
   "cell_type": "markdown",
   "metadata": {},
   "source": [
    "***\n",
    "## Assignment Dice code\n"
   ]
  },
  {
   "cell_type": "code",
   "execution_count": 110,
   "metadata": {},
   "outputs": [
    {
     "name": "stdout",
     "output_type": "stream",
     "text": [
      "how many dice do you want?15\n",
      "how many times shall I roll?1000\n",
      "The number of dice you wanted was 15 the number of rolls you wanted was 1000  Ive counted the \n",
      "totals for each over all value and here they are....\n",
      "[(32, 1), (36, 1), (37, 11), (38, 4), (39, 7), (40, 11), (41, 13), (42, 18), (43, 26), (44, 15), (45, 28), (46, 28), (47, 54), (48, 52), (49, 56), (50, 40), (51, 52), (52, 80), (53, 60), (54, 60), (55, 51), (56, 51), (57, 54), (58, 39), (59, 37), (60, 36), (61, 34), (62, 23), (63, 17), (64, 9), (65, 9), (66, 7), (67, 7), (68, 3), (69, 4), (70, 1), (72, 1)]\n"
     ]
    },
    {
     "data": {
      "image/png": "[encoded data removed]",
      "text/plain": [
       "<Figure size 432x288 with 1 Axes>"
      ]
     },
     "metadata": {
      "needs_background": "light"
     },
     "output_type": "display_data"
    },
    {
     "name": "stdout",
     "output_type": "stream",
     "text": [
      "end\n"
     ]
    }
   ],
   "source": [
    "#capture each total in list and move to dictionary for counting\n",
    "import numpy as np\n",
    "import matplotlib.pyplot as plt\n",
    "import seaborn as sns\n",
    "import operator\n",
    "import collections\n",
    "rng = np.random.default_rng()\n",
    "k = int(input(\"how many dice do you want?\"))\n",
    "n = int(input(\"how many times shall I roll?\"))\n",
    "q=[]\n",
    "def dicerolls(k,n):\n",
    "    b=1\n",
    "    while b <=n:\n",
    "        a=1\n",
    "        rolls=0\n",
    "        #print('roll',b) used to track my programming\n",
    "        while a <=k:\n",
    "            dice = rng.integers(1,6,endpoint=True)\n",
    "            #print (dice)\n",
    "            rolls = (rolls + dice)\n",
    "            a = a+1\n",
    "        b=b+1\n",
    "        #print(rolls)used to track my programming\n",
    "        q.append(int(rolls))\n",
    "        #print(q)used to track my programming\n",
    "    return\n",
    "y ={}\n",
    "def count (j): #Naming the function count\n",
    "    for i in (j): #Function now looks for a character from the list\n",
    "        if i in y: \n",
    "            y[i] += 1  # If character is already counted once then 1 more is added to the count\n",
    "        else:\n",
    "            y[i] = 1 # if character encountered for the first time then the count is 1\n",
    "    return y\n",
    "dicerolls(k,n)#calling the dice rolls to list q\n",
    "count(q)#calling count fuction on the list\n",
    "\n",
    "print (\"The number of dice you wanted was\",(k),\"the number of rolls you wanted was\",(n) ,\n",
    "       \" Ive counted the \\ntotals for each over all value and here they are....\",)\n",
    "\n",
    "sorted_y = sorted(y.items(), key=operator.itemgetter(0))\n",
    "print(sorted_y)\n",
    "\n",
    "sns.histplot(q, bins=((6*k)-(k-1)))\n",
    "plt.show()\n",
    "print('end')\n"
   ]
  },
  {
   "cell_type": "code",
   "execution_count": null,
   "metadata": {},
   "outputs": [],
   "source": []
  },
  {
   "cell_type": "code",
   "execution_count": 24,
   "metadata": {},
   "outputs": [
    {
     "name": "stdout",
     "output_type": "stream",
     "text": [
      "[('11', 1), ('7', 2), ('9', 3)]\n"
     ]
    }
   ],
   "source": [
    "a_dictionary = {\"7\": 2, \"9\": 3, \"11\": 1}\n",
    "dictionary_items = a_dictionary.items()\n",
    "sorted_items = sorted(dictionary_items)\n",
    "print(sorted_items)\n"
   ]
  },
  {
   "cell_type": "code",
   "execution_count": 100,
   "metadata": {},
   "outputs": [
    {
     "name": "stdout",
     "output_type": "stream",
     "text": [
      "[(2, 39), (3, 62), (4, 79), (5, 116), (6, 129), (7, 172), (8, 133), (9, 113), (10, 75), (11, 57), (12, 25)]\n",
      "OrderedDict([(2, 39), (3, 62), (4, 79), (5, 116), (6, 129), (7, 172), (8, 133), (9, 113), (10, 75), (11, 57), (12, 25)])\n"
     ]
    }
   ],
   "source": [
    "import operator\n",
    "import collections\n",
    "sorted_y = sorted(y.items(), key=operator.itemgetter(0))\n",
    "print(sorted_y)\n",
    "jj = collections.OrderedDict(sorted_y)\n",
    "print (jj)"
   ]
  }
 ],
 "metadata": {
  "kernelspec": {
   "display_name": "Python 3",
   "language": "python",
   "name": "python3"
  },
  "language_info": {
   "codemirror_mode": {
    "name": "ipython",
    "version": 3
   },
   "file_extension": ".py",
   "mimetype": "text/x-python",
   "name": "python",
   "nbconvert_exporter": "python",
   "pygments_lexer": "ipython3",
   "version": "3.8.5"
  }
 },
 "nbformat": 4,
 "nbformat_minor": 4
}
