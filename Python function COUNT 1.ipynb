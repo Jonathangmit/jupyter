{
 "cells": [
  {
   "cell_type": "markdown",
   "metadata": {},
   "source": [
    "### Jonathan Harper\n",
    "### Fundamentals of data analysis\n",
    "\n",
    "### Start investigating Jupyter and the first problem of creating a function to count a list.\n",
    "### Ensuring along the way that good documentation practice is developed and used.\n",
    "\n",
    "## The references stated below are references used in the in the contruction of the assignment\n",
    "\n",
    "[1]Stack overflow; \n",
    "    https://stackoverflow.com/questions/40284484/count-or-add-list-elements-without-using-python-built-in-functions\n",
    "        \n",
    "[2]An informal introduction to python; https://docs.python.org/3/tutorial/introduction.html#lists\n",
    "    \n",
    "[3]Geeks for geeks; https://www.geeksforgeeks.org/python-count-occurrences-of-a-character-in-string/\n",
    "    \n",
    "[4]Geeks for geeks; https://www.geeksforgeeks.org/python-frequency-of-each-character-in-string/"
   ]
  },
  {
   "cell_type": "markdown",
   "metadata": {},
   "source": [
    "# Count"
   ]
  },
  {
   "cell_type": "markdown",
   "metadata": {},
   "source": [
    "### Please copy the sentence below in the box when promted, or one of your own if you like.\n",
    "### the quick brown fox jumped over the lazy dog"
   ]
  },
  {
   "cell_type": "code",
   "execution_count": 10,
   "metadata": {},
   "outputs": [
    {
     "name": "stdout",
     "output_type": "stream",
     "text": [
      "please enter a sentence:hello world\n",
      "{'h': 1, 'e': 1, 'l': 3, 'o': 2, ' ': 1, 'w': 1, 'r': 1, 'd': 1}\n"
     ]
    }
   ],
   "source": [
    "# asking the user for a list of words in which individual characters are \n",
    "# counted and the values foreach character returned.\n",
    "\n",
    "# requesting the list\n",
    "x=str(input(\"please enter a sentence:\"))\n",
    "\n",
    "#\n",
    "count = {}\n",
    "\n",
    "for i in x: \n",
    "    if i in count: \n",
    "        count[i] +=1\n",
    "    else:\n",
    "        count[i] = 1\n",
    "    \n",
    "print (count)"
   ]
  },
  {
   "cell_type": "code",
   "execution_count": null,
   "metadata": {},
   "outputs": [],
   "source": []
  },
  {
   "cell_type": "code",
   "execution_count": null,
   "metadata": {},
   "outputs": [],
   "source": []
  }
 ],
 "metadata": {
  "kernelspec": {
   "display_name": "Python 3",
   "language": "python",
   "name": "python3"
  },
  "language_info": {
   "codemirror_mode": {
    "name": "ipython",
    "version": 3
   },
   "file_extension": ".py",
   "mimetype": "text/x-python",
   "name": "python",
   "nbconvert_exporter": "python",
   "pygments_lexer": "ipython3",
   "version": "3.8.3"
  }
 },
 "nbformat": 4,
 "nbformat_minor": 4
}
