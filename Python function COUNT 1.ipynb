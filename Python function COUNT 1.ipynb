{
 "cells": [
  {
   "cell_type": "markdown",
   "metadata": {},
   "source": [
    "### Jonathan Harper\n",
    "### Fundamentals of data analysis:\n",
    "\n",
    "***\n",
    "\n",
    "## The references stated below are references used in the in the contruction of the counts  assignment\n",
    "\n",
    "[1]Stack overflow; \n",
    "    https://stackoverflow.com/questions/40284484/count-or-add-list-elements-without-using-python-built-in-functions\n",
    "        \n",
    "[2]An informal introduction to python; https://docs.python.org/3/tutorial/introduction.html#lists\n",
    "    \n",
    "[3]Geeks for geeks; https://www.geeksforgeeks.org/python-count-occurrences-of-a-character-in-string/\n",
    "    \n",
    "[4]Geeks for geeks; https://www.geeksforgeeks.org/python-frequency-of-each-character-in-string/\n",
    "\n",
    "[5]python.org; https://wiki.python.org/moin/ForLoop"
   ]
  },
  {
   "cell_type": "markdown",
   "metadata": {},
   "source": [
    "***\n",
    "\n",
    "# Assignment 1 Count"
   ]
  },
  {
   "cell_type": "markdown",
   "metadata": {},
   "source": [
    "## practice\n",
    "\n",
    "###### I wanted first to establish the mechanism which was going to count my letters and be confident that this would indeed count the individual discrete items and provide the required output before wrapping it in a function. This code clearly does that."
   ]
  },
  {
   "cell_type": "code",
   "execution_count": 14,
   "metadata": {},
   "outputs": [
    {
     "name": "stdout",
     "output_type": "stream",
     "text": [
      "please enter a sentence:hello\n",
      "{'h': 1, 'e': 1, 'l': 2, 'o': 1}\n"
     ]
    }
   ],
   "source": [
    "# asking the user for a list of words in which individual characters are \n",
    "# counted and the values foreach character returned.\n",
    "\n",
    "# requesting the list\n",
    "x=str(input(\"please enter a sentence:\"))\n",
    "count = {}\n",
    "for i in x: \n",
    "    if i in count: \n",
    "        count[i] +=1\n",
    "    else:\n",
    "        count[i] = 1\n",
    "    \n",
    "print (count)"
   ]
  },
  {
   "cell_type": "code",
   "execution_count": 15,
   "metadata": {},
   "outputs": [
    {
     "name": "stdout",
     "output_type": "stream",
     "text": [
      "please enter a sentence:hello\n",
      "{'h': 1, 'e': 1, 'l': 2, 'o': 1}\n"
     ]
    }
   ],
   "source": [
    "#practice area to inroduce function\n",
    "x=str(input(\"please enter a sentence:\"))\n",
    "y = {}\n",
    "def count (x):\n",
    "    for i in x: \n",
    "        if i in y: \n",
    "            y[i] +=1\n",
    "        else:\n",
    "            y[i] = 1\n",
    "    return y\n",
    "print (count(x))"
   ]
  },
  {
   "cell_type": "markdown",
   "metadata": {},
   "source": [
    "***\n",
    "## Count Assignment code"
   ]
  },
  {
   "cell_type": "code",
   "execution_count": 16,
   "metadata": {},
   "outputs": [
    {
     "name": "stdout",
     "output_type": "stream",
     "text": [
      "{'A': 3, 'B': 1, 'C': 1}\n"
     ]
    }
   ],
   "source": [
    "#Move from input to list as requested\n",
    "x=['A','A','B','C','A']\n",
    "#creating the dictionary y in which the counts will be stored\n",
    "y = {}\n",
    "def count (n): #Naming the function count\n",
    "    for i in n: #Function now looks for a character from the list\n",
    "        if i in y: \n",
    "            y[i] += 1  # If character is already counted once then 1 more is added to the count\n",
    "        else:\n",
    "            y[i] = 1 # if character encountered for the first time then the count is 1\n",
    "    return y \n",
    "print (count(x))#the function is called for the list x here"
   ]
  },
  {
   "cell_type": "markdown",
   "metadata": {},
   "source": [
    "***\n",
    "### I have taken the code for assignment and manipulated it to develop my understanding."
   ]
  },
  {
   "cell_type": "code",
   "execution_count": 27,
   "metadata": {},
   "outputs": [
    {
     "name": "stdout",
     "output_type": "stream",
     "text": [
      "{'1': 1}\n",
      "{'1': 1, 'A': 1}\n",
      "{'1': 1, 'A': 1, 'B': 1}\n",
      "{'1': 1, 'A': 1, 'B': 1, 'C': 1}\n",
      "{'1': 1, 'A': 2, 'B': 1, 'C': 1}\n",
      "After consulting my dictionary I can announce the count for each character in the list is as follows \n",
      " {'1': 1, 'A': 2, 'B': 1, 'C': 1}\n"
     ]
    }
   ],
   "source": [
    "x=['A','A','B','C','A']\n",
    "y = {}\n",
    "def count (n): \n",
    "    for i in n: \n",
    "        if i in y: \n",
    "            y[i] += 1  \n",
    "        else:\n",
    "            y[i] = 1\n",
    "        print (y) #added a print statement here to display every iteration of the list\n",
    "    return y\n",
    "print('After consulting my dictionary I can announce the count for each character in the list is as follows','\\n',count(x))"
   ]
  },
  {
   "cell_type": "markdown",
   "metadata": {},
   "source": [
    "#### In the above code I have simply taken the assignment code and added a print statement within the for loop, this is interesting in that it allows us to see the dictionary formed with each interation of the loop.\n",
    "\n",
    "* The first letter encountered is A, A is assigned a value of 1 through the else statement.\n",
    "* The second leter encountered is A therefore the count for A has 1 added (A=2) to it through the if statement.\n",
    "* The third letter encountered is B,  B is assigned a value of 1 through the else statement.\n",
    "* The fourth letter encountered is C, C is assigned a value of 1 through the else statement.\n",
    "* The fifth leter encountered is A therefore the count for A has 1 added (A=3) to it through the if statement."
   ]
  },
  {
   "cell_type": "code",
   "execution_count": 2,
   "metadata": {},
   "outputs": [
    {
     "name": "stdout",
     "output_type": "stream",
     "text": [
      "x dictionary: {'A': 3, 'B': 1, 'C': 1}\n",
      "z dictionary: {'D': 1, 'E': 1, 'F': 3}\n",
      "x and z dictionarys combined: {'A': 3, 'B': 1, 'C': 1, 'D': 1, 'E': 1, 'F': 3}\n"
     ]
    }
   ],
   "source": [
    "#Now we have 2 lists x and z\n",
    "x=['A','A','B','C','A']\n",
    "z=['D','E','F','F','F']\n",
    "def count(n) : #ensuring the function is clearly generic by removing the label.\n",
    "    y = {} # by moving the dictionary creation into the loop we clear it everytime we call the function.\n",
    "    for i in n:\n",
    "        if i in y: \n",
    "            y[i] +=1\n",
    "        else:\n",
    "            y[i] = 1\n",
    "    return y\n",
    "print ('x dictionary:',(count(x)))# this will give us our first list\n",
    "print ('z dictionary:',(count(z)))# this will give us our second list\n",
    "print ('x and z dictionarys combined:',(count(x + z))) #this combines both lists"
   ]
  },
  {
   "cell_type": "markdown",
   "metadata": {},
   "source": [
    "###### In this code I have added a second list to demonstrate that the created function will run on different lists and that by calling the fuction correctly both lists can be placed into the same dictionary by the same function.\n",
    "\n",
    "###### In order to achive separate outputs for each list in code that called for the fuction onboth lists I had to create the dictionary inside the function, thus the dictionary was cleared of list x before executing list z. I also called the function with the lists combined and (x+z) . This achived the desired output of both lists being assigned to the same dictionary.\n",
    "***\n",
    "###### End of Counts\n",
    "***"
   ]
  },
  {
   "cell_type": "markdown",
   "metadata": {},
   "source": [
    "\n",
    "# Assignment 2 Dice\n",
    "\n",
    "###### The references stated below are references used in the in the contruction of the dice assignment\n",
    "\n",
    "###### How to put a loop output into a list; https://stackoverflow.com/questions/39322625/how-to-put-python-loop-output-in-a-list/39323039\n",
    "###### sorting dictionarys by key ; https://stackoverflow.com/questions/9001509/how-can-i-sort-a-dictionary-by-key\n",
    "###### Sorting dictionarys by value ;https://stackoverflow.com/questions/613183/how-do-i-sort-a-dictionary-by-value\n",
    "\n",
    "##### The most pleasing thing about this assignment was that I was able to go deep into the programme before having to source help from outside (internet). I immediately saw what I had to do in terms of writing to a list and then placing that list into the count function or something approching it. It marked a turning point for me , although I found it difficult I had the plan in my head and perhaps more so when I did go to the internet I was looking for syntax more than the full idea."
   ]
  },
  {
   "cell_type": "code",
   "execution_count": 19,
   "metadata": {},
   "outputs": [
    {
     "name": "stdout",
     "output_type": "stream",
     "text": [
      "First dice rolls\n",
      "3\n",
      "Second dice rolls\n",
      "5\n",
      "total is\n",
      "8\n"
     ]
    }
   ],
   "source": [
    "# create the 2 dice rolls\n",
    "import numpy as np\n",
    "rng = np.random.default_rng()\n",
    "d1 = rng.integers(1,6,endpoint=True)\n",
    "d2 = rng.integers(1,6,endpoint=True)\n",
    "print(\"First dice rolls\")\n",
    "print(d1) \n",
    "print(\"Second dice rolls\")\n",
    "print(d2)\n",
    "print(\"total is\")\n",
    "print(d1+d2)"
   ]
  },
  {
   "cell_type": "code",
   "execution_count": 51,
   "metadata": {},
   "outputs": [
    {
     "name": "stdout",
     "output_type": "stream",
     "text": [
      "how many dice do you want?3\n",
      "how many times shall I roll?3\n",
      "roll 1\n",
      "3\n",
      "4\n",
      "2\n",
      "total 9\n",
      "roll 2\n",
      "5\n",
      "5\n",
      "1\n",
      "total 11\n",
      "roll 3\n",
      "6\n",
      "1\n",
      "4\n",
      "total 11\n",
      "end\n"
     ]
    }
   ],
   "source": [
    "### Create multiple dice rolls\n",
    "import sys\n",
    "import numpy as np\n",
    "rng = np.random.default_rng()\n",
    "k = int(input(\"how many dice do you want?\"))\n",
    "n = int(input(\"how many times shall I roll?\"))\n",
    "\n",
    "def dicerolls(k,n):\n",
    "    b=1\n",
    "    while b <=n:\n",
    "        a=1\n",
    "        rolls=0\n",
    "        print('roll',b)\n",
    "        while a <=k:\n",
    "            dice = rng.integers(1,6,endpoint=True)\n",
    "            print (dice)\n",
    "            rolls = (rolls + dice)\n",
    "            a = a+1\n",
    "        b=b+1\n",
    "        print(\"total\",(rolls))\n",
    "    return\n",
    "\n",
    "dicerolls(k,n)\n",
    "print('end')"
   ]
  },
  {
   "cell_type": "markdown",
   "metadata": {},
   "source": [
    "***\n",
    "## Assignment Dice code\n"
   ]
  },
  {
   "cell_type": "code",
   "execution_count": 1,
   "metadata": {},
   "outputs": [
    {
     "name": "stdout",
     "output_type": "stream",
     "text": [
      "how many dice do you want?2\n",
      "how many times shall I roll?1000\n",
      "The number of dice you wanted was 2 the number of rolls you wanted was 1000  Ive counted the \n",
      "totals for each over all value and here they are....\n",
      "[(2, 21), (3, 68), (4, 76), (5, 104), (6, 137), (7, 187), (8, 145), (9, 113), (10, 69), (11, 55), (12, 25)]\n"
     ]
    },
    {
     "data": {
      "image/png": "[encoded data removed]",
      "text/plain": [
       "<Figure size 432x288 with 1 Axes>"
      ]
     },
     "metadata": {
      "needs_background": "light"
     },
     "output_type": "display_data"
    },
    {
     "name": "stdout",
     "output_type": "stream",
     "text": [
      "end\n"
     ]
    }
   ],
   "source": [
    "#capture each total in list and move to dictionary for counting\n",
    "import numpy as np\n",
    "import matplotlib.pyplot as plt\n",
    "import seaborn as sns\n",
    "import operator\n",
    "\n",
    "rng = np.random.default_rng()\n",
    "k = int(input(\"how many dice do you want?\"))\n",
    "n = int(input(\"how many times shall I roll?\"))\n",
    "q=[]\n",
    "def dicerolls(k,n):\n",
    "    b=1\n",
    "    while b <=n:\n",
    "        a=1\n",
    "        rolls=0\n",
    "        #print('roll',b) used to track my programming\n",
    "        while a <=k:\n",
    "            dice = rng.integers(1,6,endpoint=True)\n",
    "            #print (dice)\n",
    "            rolls = (rolls + dice)\n",
    "            a = a+1\n",
    "        b=b+1\n",
    "        #print(rolls)used to track my programming\n",
    "        q.append(int(rolls))\n",
    "        #print(q)used to track my programming\n",
    "    return\n",
    "y ={}\n",
    "def count (j): #Naming the function count\n",
    "    for i in (j): #Function now looks for a character from the list\n",
    "        if i in y: \n",
    "            y[i] += 1  # If character is already counted once then 1 more is added to the count\n",
    "        else:\n",
    "            y[i] = 1 # if character encountered for the first time then the count is 1\n",
    "    return y\n",
    "dicerolls(k,n)#calling the dice rolls to list q\n",
    "count(q)#calling count fuction on the list\n",
    "\n",
    "print (\"The number of dice you wanted was\",(k),\"the number of rolls you wanted was\",(n) ,\n",
    "       \" Ive counted the \\ntotals for each over all value and here they are....\",)\n",
    "\n",
    "sorted_y = sorted(y.items(), key=operator.itemgetter(0))\n",
    "print(sorted_y)\n",
    "\n",
    "sns.histplot(q, bins=((6*k)-(k-1)))\n",
    "plt.show()\n",
    "print('end')\n"
   ]
  },
  {
   "cell_type": "code",
   "execution_count": null,
   "metadata": {},
   "outputs": [],
   "source": []
  },
  {
   "cell_type": "code",
   "execution_count": 24,
   "metadata": {},
   "outputs": [
    {
     "name": "stdout",
     "output_type": "stream",
     "text": [
      "[('11', 1), ('7', 2), ('9', 3)]\n"
     ]
    }
   ],
   "source": [
    "a_dictionary = {\"7\": 2, \"9\": 3, \"11\": 1}\n",
    "dictionary_items = a_dictionary.items()\n",
    "sorted_items = sorted(dictionary_items)\n",
    "print(sorted_items)\n"
   ]
  },
  {
   "cell_type": "code",
   "execution_count": 100,
   "metadata": {},
   "outputs": [
    {
     "name": "stdout",
     "output_type": "stream",
     "text": [
      "[(2, 39), (3, 62), (4, 79), (5, 116), (6, 129), (7, 172), (8, 133), (9, 113), (10, 75), (11, 57), (12, 25)]\n",
      "OrderedDict([(2, 39), (3, 62), (4, 79), (5, 116), (6, 129), (7, 172), (8, 133), (9, 113), (10, 75), (11, 57), (12, 25)])\n"
     ]
    }
   ],
   "source": [
    "import operator\n",
    "import collections\n",
    "sorted_y = sorted(y.items(), key=operator.itemgetter(0))\n",
    "print(sorted_y)\n",
    "jj = collections.OrderedDict(sorted_y)\n",
    "print (jj)"
   ]
  },
  {
   "cell_type": "code",
   "execution_count": null,
   "metadata": {},
   "outputs": [],
   "source": []
  },
  {
   "cell_type": "code",
   "execution_count": 23,
   "metadata": {},
   "outputs": [
    {
     "ename": "ValueError",
     "evalue": "The truth value of an array with more than one element is ambiguous. Use a.any() or a.all()",
     "output_type": "error",
     "traceback": [
      "\u001b[1;31m---------------------------------------------------------------------------\u001b[0m",
      "\u001b[1;31mValueError\u001b[0m                                Traceback (most recent call last)",
      "\u001b[1;32m<ipython-input-23-a40ede30844d>\u001b[0m in \u001b[0;36m<module>\u001b[1;34m\u001b[0m\n\u001b[0;32m     21\u001b[0m             \u001b[1;31m#y[i] = 1 # if character encountered for the first time then the count is 1\u001b[0m\u001b[1;33m\u001b[0m\u001b[1;33m\u001b[0m\u001b[1;33m\u001b[0m\u001b[0m\n\u001b[0;32m     22\u001b[0m     \u001b[1;31m#return y\u001b[0m\u001b[1;33m\u001b[0m\u001b[1;33m\u001b[0m\u001b[1;33m\u001b[0m\u001b[0m\n\u001b[1;32m---> 23\u001b[1;33m \u001b[0mtosser\u001b[0m\u001b[1;33m(\u001b[0m\u001b[1;33m)\u001b[0m\u001b[1;33m\u001b[0m\u001b[1;33m\u001b[0m\u001b[0m\n\u001b[0m\u001b[0;32m     24\u001b[0m \u001b[0mprint\u001b[0m \u001b[1;33m(\u001b[0m\u001b[0mw\u001b[0m\u001b[1;33m)\u001b[0m\u001b[1;33m\u001b[0m\u001b[1;33m\u001b[0m\u001b[0m\n\u001b[0;32m     25\u001b[0m \u001b[0mprint\u001b[0m\u001b[1;33m(\u001b[0m\u001b[1;34m\"hi\"\u001b[0m\u001b[1;33m)\u001b[0m\u001b[1;33m\u001b[0m\u001b[1;33m\u001b[0m\u001b[0m\n",
      "\u001b[1;32m<ipython-input-23-a40ede30844d>\u001b[0m in \u001b[0;36mtosser\u001b[1;34m()\u001b[0m\n\u001b[0;32m      6\u001b[0m     \u001b[1;32mwhile\u001b[0m \u001b[0mtoss\u001b[0m \u001b[1;33m<\u001b[0m \u001b[1;36m1000\u001b[0m\u001b[1;33m:\u001b[0m\u001b[1;33m\u001b[0m\u001b[1;33m\u001b[0m\u001b[0m\n\u001b[0;32m      7\u001b[0m         \u001b[0mw\u001b[0m\u001b[1;33m=\u001b[0m \u001b[0mrng\u001b[0m\u001b[1;33m.\u001b[0m\u001b[0mbinomial\u001b[0m\u001b[1;33m(\u001b[0m\u001b[1;36m1\u001b[0m\u001b[1;33m,\u001b[0m\u001b[1;36m0.5\u001b[0m\u001b[1;33m,\u001b[0m\u001b[1;36m100\u001b[0m\u001b[1;33m)\u001b[0m\u001b[1;33m\u001b[0m\u001b[1;33m\u001b[0m\u001b[0m\n\u001b[1;32m----> 8\u001b[1;33m         \u001b[1;32mif\u001b[0m \u001b[0mw\u001b[0m \u001b[1;33m==\u001b[0m \u001b[1;36m1\u001b[0m\u001b[1;33m:\u001b[0m\u001b[1;33m\u001b[0m\u001b[1;33m\u001b[0m\u001b[0m\n\u001b[0m\u001b[0;32m      9\u001b[0m             \u001b[0mprint\u001b[0m \u001b[1;33m(\u001b[0m\u001b[1;34m\"heads\"\u001b[0m\u001b[1;33m)\u001b[0m\u001b[1;33m\u001b[0m\u001b[1;33m\u001b[0m\u001b[0m\n\u001b[0;32m     10\u001b[0m         \u001b[1;32melse\u001b[0m\u001b[1;33m:\u001b[0m\u001b[1;33m\u001b[0m\u001b[1;33m\u001b[0m\u001b[0m\n",
      "\u001b[1;31mValueError\u001b[0m: The truth value of an array with more than one element is ambiguous. Use a.any() or a.all()"
     ]
    }
   ],
   "source": [
    "import numpy as np\n",
    "rng = np.random.default_rng()\n",
    "#tosses =[]\n",
    "def tosser():\n",
    "    toss = 0\n",
    "    while toss < 1000:\n",
    "        w= rng.binomial(1,0.5,100)\n",
    "        if w == 1:\n",
    "            print (\"heads\")\n",
    "        else:\n",
    "            print(\"tails\")\n",
    "        #tosses.append(int(w))\n",
    "        toss = toss + 1\n",
    "    return\n",
    "#y = {}\n",
    "#def count (n): #Naming the function count\n",
    "    #for i in n: #Function now looks for a character from the list\n",
    "        ##if i in y: \n",
    "            #y[i] += 1  # If character is already counted once then 1 more is added to the count\n",
    "        #else:\n",
    "            #y[i] = 1 # if character encountered for the first time then the count is 1\n",
    "    #return y \n",
    "tosser()\n",
    "print (w)\n",
    "print(\"hi\")\n",
    "print(tosses)\n",
    "print(\"end\")"
   ]
  },
  {
   "cell_type": "code",
   "execution_count": 26,
   "metadata": {},
   "outputs": [
    {
     "data": {
      "text/plain": [
       "<AxesSubplot:ylabel='Count'>"
      ]
     },
     "execution_count": 26,
     "metadata": {},
     "output_type": "execute_result"
    },
    {
     "data": {
      "image/png": "[encoded data removed]",
      "text/plain": [
       "<Figure size 432x288 with 1 Axes>"
      ]
     },
     "metadata": {
      "needs_background": "light"
     },
     "output_type": "display_data"
    }
   ],
   "source": [
    "#taken from numpy pages\n",
    "import numpy as np\n",
    "import matplotlib.pyplot as plt\n",
    "import seaborn as sns\n",
    "import operator\n",
    "rng = np.random.default_rng()\n",
    "n, p = 100, .5 \n",
    "#toss = 0# number of trials, probability of each trial \n",
    "s = rng.binomial(n, p, 1000000)\n",
    "sns.histplot(s)"
   ]
  },
  {
   "cell_type": "code",
   "execution_count": 24,
   "metadata": {},
   "outputs": [
    {
     "name": "stdout",
     "output_type": "stream",
     "text": [
      "[2.   3.25 4.5  5.75 7.  ]\n",
      "[13.   16.75 20.5  24.25 28.  ]\n",
      "[ 1.    3.75  6.5   9.25 12.  ]\n",
      "[13.3   27.875 42.45  57.025 71.6  ]\n",
      "[ 3.   6.5 10.  13.5 17. ]\n",
      "[ 19.  40.  61.  82. 103.]\n",
      "[1.   2.75 4.5  6.25 8.  ]\n",
      "[25. 32. 39. 46. 53.]\n",
      "[array([2.  , 3.25, 4.5 , 5.75, 7.  ]), array([ 1.  ,  3.75,  6.5 ,  9.25, 12.  ]), array([ 3. ,  6.5, 10. , 13.5, 17. ]), array([1.  , 2.75, 4.5 , 6.25, 8.  ])]\n",
      "[array([13.  , 16.75, 20.5 , 24.25, 28.  ]), array([13.3  , 27.875, 42.45 , 57.025, 71.6  ]), array([ 19.,  40.,  61.,  82., 103.]), array([25., 32., 39., 46., 53.])]\n"
     ]
    },
    {
     "data": {
      "image/png": "[encoded data removed]",
      "text/plain": [
       "<Figure size 432x288 with 1 Axes>"
      ]
     },
     "metadata": {
      "needs_background": "light"
     },
     "output_type": "display_data"
    },
    {
     "data": {
      "image/png": "[encoded data removed]",
      "text/plain": [
       "<Figure size 432x288 with 1 Axes>"
      ]
     },
     "metadata": {
      "needs_background": "light"
     },
     "output_type": "display_data"
    }
   ],
   "source": [
    "import numpy as np\n",
    "import matplotlib.pyplot as plt\n",
    "x = np.linspace(2.0, 7.0, num=5)\n",
    "y = 3*x+7\n",
    "z =[]\n",
    "a=[]\n",
    "print(x)\n",
    "print(y)\n",
    "z.append(y)\n",
    "a.append(x)\n",
    "x1 = np.linspace(1.0, 12.0, num=5)\n",
    "y1 = 5.3*(x1)+8\n",
    "print(x1)\n",
    "print(y1)\n",
    "z.append(y1)\n",
    "a.append(x1)\n",
    "x2 = np.linspace(3.0, 17.0, num=5)\n",
    "y2 = 6*(x2)+1\n",
    "print(x2)\n",
    "print(y2)\n",
    "z.append(y2)\n",
    "a.append(x2)\n",
    "x3 = np.linspace(1.0, 8.0, num=5)\n",
    "y3 = 4*(x3)+21\n",
    "print(x3)\n",
    "print(y3)\n",
    "z.append(y3)\n",
    "a.append(x3)\n",
    "print(a)\n",
    "print(z)\n",
    "plt.plot(x,y,'g-',x1,y1,'b-',x2,y2,'y-',x3,y3,'r-')\n",
    "plt.show()\n",
    "plt.plot(x,y,'g-',x1,y1,'b-',x2,y2,'y-',x3,y3,'r-',a,z,'o-')\n",
    "plt.show()\n",
    "\n"
   ]
  },
  {
   "cell_type": "code",
   "execution_count": 71,
   "metadata": {},
   "outputs": [
    {
     "name": "stdout",
     "output_type": "stream",
     "text": [
      "[[[  1.     1.     2.     2.     3.     3.     4.     4.     5.     5.\n",
      "     6.     6.     7.     7.     8.     8.     9.     9.    10.    10.\n",
      "    11.    11.    12.    12.    13.    13.    14.    14.    15.    15.\n",
      "    16.    16.    17.    17.    18.    18.    19.    19.    20.    20.\n",
      "    21.    21.    22.    22.    23.    23.    24.    24.    25.    25.\n",
      "    26.    26.    27.    27.    28.    28.    29.    29.    30.    30.\n",
      "    31.    31.    32.    32.    33.    33.    34.    34.    35.    35.\n",
      "    36.    36.    37.    37.    38.    38.    39.    39.    40.    40.\n",
      "    41.    41.    42.    42.    43.    43.    44.    44.    45.    45.\n",
      "    46.    46.    47.    47.    48.    48.    49.    49.    50.    50.\n",
      "    51.    51.    52.    52.    53.    53.    54.    54.    55.    55.\n",
      "    56.    56.    57.    57.    58.    58.    59.    59.    60.    60.\n",
      "    61.    61.    62.    62.    63.    63.    64.    64.    65.    65.\n",
      "    66.    66.    67.    67.    68.    68.    69.    69.    70.    70.\n",
      "    71.    71.    72.    72.    73.    73.    74.    74.    75.    75.\n",
      "    76.    76.    77.    77.    78.    78.    79.    79.    80.    80.\n",
      "    81.    81.    82.    82.    83.    83.    84.    84.    85.    85.\n",
      "    86.    86.    87.    87.    88.    89.    90.    91.    92.    93.\n",
      "    94.    95.    96.    97.    98.    99.   100.   101.   102.   103.\n",
      "   104.   105.   106.   107.   108.   109.   110.   111.   112.   113.\n",
      "   114.   115.   116.   117.   118.   119.   120.   121.   122.   123.\n",
      "   124.   125.   126.   127.   128.   129.   130.   131.   132.   133.\n",
      "   134.   135.   136.   137.   138.   139.   140.   141.   142.   143.\n",
      "   144.   145.   146.   147.   148.   149.   150.   151.   152.   153.\n",
      "   154.   155.   156.   157.   158.   159.   160.   161.   162.   163.\n",
      "   164.   165.   166.   167.   168.   169.   170.   171.   172.   173.\n",
      "   174.   175.   176.   177.   178.   179.   180.   181.   182.   183.\n",
      "   184.   185.   186.   187.   188.   189.   190.   191.   192.   193.\n",
      "   194.   195.   196.   197.   198.   199.   200.   201.   202.   203.\n",
      "   204.   205.   206.   207.   208.   209.   210.   211.   212.   213.\n",
      "   214.   215.   216.   217.   218.   219.   220.   221.   222.   223.\n",
      "   224.   225.   226.   227.   228.   229.   230.   231.   232.   233.\n",
      "   234.   235.   236.   237.   238.   239.   240.   241.   242.   243.\n",
      "   244.   245.   246.   247.   248.   249.   250.   251.   252.   253.\n",
      "   254.   255.   256.   257.   258.   259.   260.   261.   262.   263.\n",
      "   264.   265.   266.   267.   268.   269.   270.  ]]\n",
      "\n",
      " [[  0.87   0.93   1.74   1.86   2.61   2.79   3.48   3.72   4.35   4.65\n",
      "     5.22   5.58   6.09   6.51   6.96   7.44   7.83   8.37   8.7    9.3\n",
      "     9.57  10.23  10.44  11.16  11.31  12.09  12.18  13.02  13.05  13.92\n",
      "    13.95  14.79  14.88  15.66  15.81  16.53  16.74  17.4   17.67  18.27\n",
      "    18.6   19.14  19.53  20.01  20.46  20.88  21.39  21.75  22.32  22.62\n",
      "    23.25  23.49  24.18  24.36  25.11  25.23  26.04  26.1   26.97  26.97\n",
      "    27.84  27.9   28.71  28.83  29.58  29.76  30.45  30.69  31.32  31.62\n",
      "    32.19  32.55  33.06  33.48  33.93  34.41  34.8   35.34  35.67  36.27\n",
      "    36.54  37.2   37.41  38.13  38.28  39.06  39.15  39.99  40.02  40.89\n",
      "    40.92  41.76  41.85  42.63  42.78  43.5   43.71  44.37  44.64  45.24\n",
      "    45.57  46.11  46.5   46.98  47.43  47.85  48.36  48.72  49.29  49.59\n",
      "    50.22  50.46  51.15  51.33  52.08  52.2   53.01  53.07  53.94  53.94\n",
      "    54.81  54.87  55.68  55.8   56.55  56.73  57.42  57.66  58.29  58.59\n",
      "    59.16  59.52  60.03  60.45  60.9   61.38  61.77  62.31  62.64  63.24\n",
      "    63.51  64.17  64.38  65.1   65.25  66.03  66.12  66.96  66.99  67.86\n",
      "    67.89  68.73  68.82  69.6   69.75  70.47  70.68  71.34  71.61  72.21\n",
      "    72.54  73.08  73.47  73.95  74.4   74.82  75.33  75.69  76.26  76.56\n",
      "    77.19  77.43  78.12  78.3   79.05  79.17  79.98  80.04  80.91  80.91\n",
      "    81.78  82.65  83.52  84.39  85.26  86.13  87.    87.87  88.74  89.61\n",
      "    90.48  91.35  92.22  93.09  93.96  94.83  95.7   96.57  97.44  98.31\n",
      "    99.18 100.05 100.92 101.79 102.66 103.53 104.4  105.27 106.14 107.01\n",
      "   107.88 108.75 109.62 110.49 111.36 112.23 113.1  113.97 114.84 115.71\n",
      "   116.58 117.45 118.32 119.19 120.06 120.93 121.8  122.67 123.54 124.41\n",
      "   125.28 126.15 127.02 127.89 128.76 129.63 130.5  131.37 132.24 133.11\n",
      "   133.98 134.85 135.72 136.59 137.46 138.33 139.2  140.07 140.94 141.81\n",
      "   142.68 143.55 144.42 145.29 146.16 147.03 147.9  148.77 149.64 150.51\n",
      "   151.38 152.25 153.12 153.99 154.86 155.73 156.6  157.47 158.34 159.21\n",
      "   160.08 160.95 161.82 162.69 163.56 164.43 165.3  166.17 167.04 167.91\n",
      "   168.78 169.65 170.52 171.39 172.26 173.13 174.   174.87 175.74 176.61\n",
      "   177.48 178.35 179.22 180.09 180.96 181.83 182.7  183.57 184.44 185.31\n",
      "   186.18 187.05 187.92 188.79 189.66 190.53 191.4  192.27 193.14 194.01\n",
      "   194.88 195.75 196.62 197.49 198.36 199.23 200.1  200.97 201.84 202.71\n",
      "   203.58 204.45 205.32 206.19 207.06 207.93 208.8  209.67 210.54 211.41\n",
      "   212.28 213.15 214.02 214.89 215.76 216.63 217.5  218.37 219.24 220.11\n",
      "   220.98 221.85 222.72 223.59 224.46 225.33 226.2  227.07 227.94 228.81\n",
      "   229.68 230.55 231.42 232.29 233.16 234.03 234.9 ]]]\n"
     ]
    },
    {
     "ename": "ValueError",
     "evalue": "x and y can be no greater than 2-D, but have shapes (2,) and (2, 1, 357)",
     "output_type": "error",
     "traceback": [
      "\u001b[1;31m---------------------------------------------------------------------------\u001b[0m",
      "\u001b[1;31mValueError\u001b[0m                                Traceback (most recent call last)",
      "\u001b[1;32m<ipython-input-71-2f88d391b037>\u001b[0m in \u001b[0;36m<module>\u001b[1;34m\u001b[0m\n\u001b[0;32m     40\u001b[0m \u001b[0mplt\u001b[0m\u001b[1;33m.\u001b[0m\u001b[0mplot\u001b[0m\u001b[1;33m(\u001b[0m\u001b[0mx2\u001b[0m\u001b[1;33m,\u001b[0m\u001b[0my2\u001b[0m\u001b[1;33m,\u001b[0m\u001b[1;34m'y-'\u001b[0m\u001b[1;33m,\u001b[0m\u001b[0mlabel\u001b[0m \u001b[1;33m=\u001b[0m \u001b[1;34m\"line3\"\u001b[0m\u001b[1;33m)\u001b[0m\u001b[1;33m\u001b[0m\u001b[1;33m\u001b[0m\u001b[0m\n\u001b[0;32m     41\u001b[0m \u001b[0mplt\u001b[0m\u001b[1;33m.\u001b[0m\u001b[0mplot\u001b[0m\u001b[1;33m(\u001b[0m\u001b[0mx3\u001b[0m\u001b[1;33m,\u001b[0m\u001b[0my3\u001b[0m\u001b[1;33m,\u001b[0m\u001b[1;34m'y-'\u001b[0m\u001b[1;33m,\u001b[0m\u001b[0mlabel\u001b[0m \u001b[1;33m=\u001b[0m \u001b[1;34m\"line4\"\u001b[0m\u001b[1;33m)\u001b[0m\u001b[1;33m\u001b[0m\u001b[1;33m\u001b[0m\u001b[0m\n\u001b[1;32m---> 42\u001b[1;33m \u001b[0mplt\u001b[0m\u001b[1;33m.\u001b[0m\u001b[0mplot\u001b[0m\u001b[1;33m(\u001b[0m\u001b[0marrx\u001b[0m\u001b[1;33m,\u001b[0m\u001b[1;34m'r-'\u001b[0m\u001b[1;33m,\u001b[0m\u001b[0mlabel\u001b[0m \u001b[1;33m=\u001b[0m\u001b[1;34m\"combina1\"\u001b[0m\u001b[1;33m)\u001b[0m\u001b[1;33m\u001b[0m\u001b[1;33m\u001b[0m\u001b[0m\n\u001b[0m\u001b[0;32m     43\u001b[0m \u001b[0mplt\u001b[0m\u001b[1;33m.\u001b[0m\u001b[0mlegend\u001b[0m\u001b[1;33m(\u001b[0m\u001b[1;33m)\u001b[0m\u001b[1;33m\u001b[0m\u001b[1;33m\u001b[0m\u001b[0m\n\u001b[0;32m     44\u001b[0m \u001b[0mplt\u001b[0m\u001b[1;33m.\u001b[0m\u001b[0mshow\u001b[0m\u001b[1;33m(\u001b[0m\u001b[1;33m)\u001b[0m\u001b[1;33m\u001b[0m\u001b[1;33m\u001b[0m\u001b[0m\n",
      "\u001b[1;32m~\\anaconda3\\lib\\site-packages\\matplotlib\\pyplot.py\u001b[0m in \u001b[0;36mplot\u001b[1;34m(scalex, scaley, data, *args, **kwargs)\u001b[0m\n\u001b[0;32m   2838\u001b[0m \u001b[1;33m@\u001b[0m\u001b[0m_copy_docstring_and_deprecators\u001b[0m\u001b[1;33m(\u001b[0m\u001b[0mAxes\u001b[0m\u001b[1;33m.\u001b[0m\u001b[0mplot\u001b[0m\u001b[1;33m)\u001b[0m\u001b[1;33m\u001b[0m\u001b[1;33m\u001b[0m\u001b[0m\n\u001b[0;32m   2839\u001b[0m \u001b[1;32mdef\u001b[0m \u001b[0mplot\u001b[0m\u001b[1;33m(\u001b[0m\u001b[1;33m*\u001b[0m\u001b[0margs\u001b[0m\u001b[1;33m,\u001b[0m \u001b[0mscalex\u001b[0m\u001b[1;33m=\u001b[0m\u001b[1;32mTrue\u001b[0m\u001b[1;33m,\u001b[0m \u001b[0mscaley\u001b[0m\u001b[1;33m=\u001b[0m\u001b[1;32mTrue\u001b[0m\u001b[1;33m,\u001b[0m \u001b[0mdata\u001b[0m\u001b[1;33m=\u001b[0m\u001b[1;32mNone\u001b[0m\u001b[1;33m,\u001b[0m \u001b[1;33m**\u001b[0m\u001b[0mkwargs\u001b[0m\u001b[1;33m)\u001b[0m\u001b[1;33m:\u001b[0m\u001b[1;33m\u001b[0m\u001b[1;33m\u001b[0m\u001b[0m\n\u001b[1;32m-> 2840\u001b[1;33m     return gca().plot(\n\u001b[0m\u001b[0;32m   2841\u001b[0m         \u001b[1;33m*\u001b[0m\u001b[0margs\u001b[0m\u001b[1;33m,\u001b[0m \u001b[0mscalex\u001b[0m\u001b[1;33m=\u001b[0m\u001b[0mscalex\u001b[0m\u001b[1;33m,\u001b[0m \u001b[0mscaley\u001b[0m\u001b[1;33m=\u001b[0m\u001b[0mscaley\u001b[0m\u001b[1;33m,\u001b[0m\u001b[1;33m\u001b[0m\u001b[1;33m\u001b[0m\u001b[0m\n\u001b[0;32m   2842\u001b[0m         **({\"data\": data} if data is not None else {}), **kwargs)\n",
      "\u001b[1;32m~\\anaconda3\\lib\\site-packages\\matplotlib\\axes\\_axes.py\u001b[0m in \u001b[0;36mplot\u001b[1;34m(self, scalex, scaley, data, *args, **kwargs)\u001b[0m\n\u001b[0;32m   1741\u001b[0m         \"\"\"\n\u001b[0;32m   1742\u001b[0m         \u001b[0mkwargs\u001b[0m \u001b[1;33m=\u001b[0m \u001b[0mcbook\u001b[0m\u001b[1;33m.\u001b[0m\u001b[0mnormalize_kwargs\u001b[0m\u001b[1;33m(\u001b[0m\u001b[0mkwargs\u001b[0m\u001b[1;33m,\u001b[0m \u001b[0mmlines\u001b[0m\u001b[1;33m.\u001b[0m\u001b[0mLine2D\u001b[0m\u001b[1;33m)\u001b[0m\u001b[1;33m\u001b[0m\u001b[1;33m\u001b[0m\u001b[0m\n\u001b[1;32m-> 1743\u001b[1;33m         \u001b[0mlines\u001b[0m \u001b[1;33m=\u001b[0m \u001b[1;33m[\u001b[0m\u001b[1;33m*\u001b[0m\u001b[0mself\u001b[0m\u001b[1;33m.\u001b[0m\u001b[0m_get_lines\u001b[0m\u001b[1;33m(\u001b[0m\u001b[1;33m*\u001b[0m\u001b[0margs\u001b[0m\u001b[1;33m,\u001b[0m \u001b[0mdata\u001b[0m\u001b[1;33m=\u001b[0m\u001b[0mdata\u001b[0m\u001b[1;33m,\u001b[0m \u001b[1;33m**\u001b[0m\u001b[0mkwargs\u001b[0m\u001b[1;33m)\u001b[0m\u001b[1;33m]\u001b[0m\u001b[1;33m\u001b[0m\u001b[1;33m\u001b[0m\u001b[0m\n\u001b[0m\u001b[0;32m   1744\u001b[0m         \u001b[1;32mfor\u001b[0m \u001b[0mline\u001b[0m \u001b[1;32min\u001b[0m \u001b[0mlines\u001b[0m\u001b[1;33m:\u001b[0m\u001b[1;33m\u001b[0m\u001b[1;33m\u001b[0m\u001b[0m\n\u001b[0;32m   1745\u001b[0m             \u001b[0mself\u001b[0m\u001b[1;33m.\u001b[0m\u001b[0madd_line\u001b[0m\u001b[1;33m(\u001b[0m\u001b[0mline\u001b[0m\u001b[1;33m)\u001b[0m\u001b[1;33m\u001b[0m\u001b[1;33m\u001b[0m\u001b[0m\n",
      "\u001b[1;32m~\\anaconda3\\lib\\site-packages\\matplotlib\\axes\\_base.py\u001b[0m in \u001b[0;36m__call__\u001b[1;34m(self, data, *args, **kwargs)\u001b[0m\n\u001b[0;32m    271\u001b[0m                 \u001b[0mthis\u001b[0m \u001b[1;33m+=\u001b[0m \u001b[0margs\u001b[0m\u001b[1;33m[\u001b[0m\u001b[1;36m0\u001b[0m\u001b[1;33m]\u001b[0m\u001b[1;33m,\u001b[0m\u001b[1;33m\u001b[0m\u001b[1;33m\u001b[0m\u001b[0m\n\u001b[0;32m    272\u001b[0m                 \u001b[0margs\u001b[0m \u001b[1;33m=\u001b[0m \u001b[0margs\u001b[0m\u001b[1;33m[\u001b[0m\u001b[1;36m1\u001b[0m\u001b[1;33m:\u001b[0m\u001b[1;33m]\u001b[0m\u001b[1;33m\u001b[0m\u001b[1;33m\u001b[0m\u001b[0m\n\u001b[1;32m--> 273\u001b[1;33m             \u001b[1;32myield\u001b[0m \u001b[1;32mfrom\u001b[0m \u001b[0mself\u001b[0m\u001b[1;33m.\u001b[0m\u001b[0m_plot_args\u001b[0m\u001b[1;33m(\u001b[0m\u001b[0mthis\u001b[0m\u001b[1;33m,\u001b[0m \u001b[0mkwargs\u001b[0m\u001b[1;33m)\u001b[0m\u001b[1;33m\u001b[0m\u001b[1;33m\u001b[0m\u001b[0m\n\u001b[0m\u001b[0;32m    274\u001b[0m \u001b[1;33m\u001b[0m\u001b[0m\n\u001b[0;32m    275\u001b[0m     \u001b[1;32mdef\u001b[0m \u001b[0mget_next_color\u001b[0m\u001b[1;33m(\u001b[0m\u001b[0mself\u001b[0m\u001b[1;33m)\u001b[0m\u001b[1;33m:\u001b[0m\u001b[1;33m\u001b[0m\u001b[1;33m\u001b[0m\u001b[0m\n",
      "\u001b[1;32m~\\anaconda3\\lib\\site-packages\\matplotlib\\axes\\_base.py\u001b[0m in \u001b[0;36m_plot_args\u001b[1;34m(self, tup, kwargs)\u001b[0m\n\u001b[0;32m    400\u001b[0m                              f\"have shapes {x.shape} and {y.shape}\")\n\u001b[0;32m    401\u001b[0m         \u001b[1;32mif\u001b[0m \u001b[0mx\u001b[0m\u001b[1;33m.\u001b[0m\u001b[0mndim\u001b[0m \u001b[1;33m>\u001b[0m \u001b[1;36m2\u001b[0m \u001b[1;32mor\u001b[0m \u001b[0my\u001b[0m\u001b[1;33m.\u001b[0m\u001b[0mndim\u001b[0m \u001b[1;33m>\u001b[0m \u001b[1;36m2\u001b[0m\u001b[1;33m:\u001b[0m\u001b[1;33m\u001b[0m\u001b[1;33m\u001b[0m\u001b[0m\n\u001b[1;32m--> 402\u001b[1;33m             raise ValueError(f\"x and y can be no greater than 2-D, but have \"\n\u001b[0m\u001b[0;32m    403\u001b[0m                              f\"shapes {x.shape} and {y.shape}\")\n\u001b[0;32m    404\u001b[0m         \u001b[1;32mif\u001b[0m \u001b[0mx\u001b[0m\u001b[1;33m.\u001b[0m\u001b[0mndim\u001b[0m \u001b[1;33m==\u001b[0m \u001b[1;36m1\u001b[0m\u001b[1;33m:\u001b[0m\u001b[1;33m\u001b[0m\u001b[1;33m\u001b[0m\u001b[0m\n",
      "\u001b[1;31mValueError\u001b[0m: x and y can be no greater than 2-D, but have shapes (2,) and (2, 1, 357)"
     ]
    },
    {
     "data": {
      "image/png": "[encoded data removed]",
      "text/plain": [
       "<Figure size 1008x720 with 1 Axes>"
      ]
     },
     "metadata": {},
     "output_type": "display_data"
    }
   ],
   "source": [
    "import numpy as np\n",
    "import matplotlib.pyplot as plt\n",
    "x = np.linspace(1.0, 87.0, num=87)\n",
    "y = 0.93*x+0\n",
    "z =[]\n",
    "a=[]\n",
    "#print(x)\n",
    "#print(y)\n",
    "\n",
    "x1 = np.linspace(1.0, 270.0, num=270)\n",
    "y1 = 0.87*(x1)+0\n",
    "#print(x1)\n",
    "#print(y1)\n",
    "\n",
    "x2 = np.linspace(1.0, 263.0, num=263)\n",
    "y2 = 0.73*(x2)+0\n",
    "#print(x2)\n",
    "#print(y2)\n",
    "\n",
    "x3 = np.linspace(1.0, 80.0, num=80)\n",
    "y3 = 0.69*(x3)+0\n",
    "#print(x3)\n",
    "#print(y3)\n",
    "arr=np.array([[x],[y]])\n",
    "arr1=np.array([[x1],[y1]])\n",
    "\n",
    "\n",
    "arrx = np.concatenate((arr,arr1),2)\n",
    "arrx.sort()\n",
    "print(arrx)\n",
    "\n",
    "\n",
    "\n",
    "#print(a)\n",
    "#print(b)\n",
    "plt.style.use('ggplot')\n",
    "plt.rcParams['figure.figsize']=14,10\n",
    "plt.plot(x,y,'b-',label = \"line1\")\n",
    "plt.plot(x1,y1,'b-',label = \"line2\")\n",
    "plt.plot(x2,y2,'y-',label = \"line3\")\n",
    "plt.plot(x3,y3,'y-',label = \"line4\")\n",
    "plt.plot(arrx,'r-',label =\"combina1\")\n",
    "plt.legend()\n",
    "plt.show()\n",
    "\n",
    "\n",
    "\n"
   ]
  },
  {
   "cell_type": "code",
   "execution_count": 44,
   "metadata": {},
   "outputs": [
    {
     "name": "stdout",
     "output_type": "stream",
     "text": [
      "[[1 2 5 6]\n",
      " [3 4 7 8]]\n"
     ]
    }
   ],
   "source": [
    "import numpy as np\n",
    "\n",
    "arr1 = np.array([[1, 2], [3, 4]])\n",
    "\n",
    "arr2 = np.array([[5, 6], [7, 8]])\n",
    "\n",
    "arr = np.concatenate((arr1, arr2), axis=1)\n",
    "\n",
    "print(arr)"
   ]
  }
 ],
 "metadata": {
  "kernelspec": {
   "display_name": "Python 3",
   "language": "python",
   "name": "python3"
  },
  "language_info": {
   "codemirror_mode": {
    "name": "ipython",
    "version": 3
   },
   "file_extension": ".py",
   "mimetype": "text/x-python",
   "name": "python",
   "nbconvert_exporter": "python",
   "pygments_lexer": "ipython3",
   "version": "3.8.5"
  }
 },
 "nbformat": 4,
 "nbformat_minor": 4
}
